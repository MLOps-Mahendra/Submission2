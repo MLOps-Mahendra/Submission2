{
 "cells": [
  {
   "cell_type": "code",
   "execution_count": 1,
   "metadata": {},
   "outputs": [],
   "source": [
    "import base64\n",
    "import json\n",
    "import random\n",
    "import pandas as pd\n",
    "import requests\n",
    "import tensorflow as tf"
   ]
  },
  {
   "cell_type": "code",
   "execution_count": 2,
   "metadata": {},
   "outputs": [],
   "source": [
    "data_csv = pd.read_csv(r\"C:\\Users\\mahen\\MLOPS2\\data\\heart_2020_cleaned.csv\")"
   ]
  },
  {
   "cell_type": "code",
   "execution_count": 3,
   "metadata": {},
   "outputs": [
    {
     "data": {
      "text/plain": [
       "{'HeartDisease': 0,\n",
       " 'HeartDiseaseStatus': 'No',\n",
       " 'BMI': 26.63,\n",
       " 'Smoking': 'Yes',\n",
       " 'AlcoholDrinking': 'No',\n",
       " 'Stroke': 'No',\n",
       " 'PhysicalHealth': 30,\n",
       " 'MentalHealth': 0,\n",
       " 'DiffWalking': 'Yes',\n",
       " 'Sex': 'Male',\n",
       " 'AgeCategory': '60-64',\n",
       " 'Race': 'American Indian/Alaskan Native',\n",
       " 'Diabetic': 'No',\n",
       " 'PhysicalActivity': 'No',\n",
       " 'GenHealth': 'Poor',\n",
       " 'SleepTime': 8,\n",
       " 'Asthma': 'No',\n",
       " 'KidneyDisease': 'No',\n",
       " 'SkinCancer': 'No'}"
      ]
     },
     "execution_count": 3,
     "metadata": {},
     "output_type": "execute_result"
    }
   ],
   "source": [
    "columns = data_csv.columns.values\n",
    "rand = random.randint(0, len(data_csv) - 1)\n",
    "\n",
    "# Mengambil fitur\n",
    "features = data_csv.values[rand]\n",
    "\n",
    "# Membuat dictionary input\n",
    "inputs = {key: value for key, value in zip(columns, features)}\n",
    "inputs"
   ]
  },
  {
   "cell_type": "code",
   "execution_count": 4,
   "metadata": {},
   "outputs": [],
   "source": [
    "def string_feature(value):\n",
    "    return tf.train.Feature(\n",
    "        bytes_list=tf.train.BytesList(value=[bytes(value, \"utf-8\")]),\n",
    "    )\n",
    "\n",
    "def float_feature(value):\n",
    "    return tf.train.Feature(\n",
    "        float_list=tf.train.FloatList(value=[value]),\n",
    "    )\n",
    "\n",
    "def int_feature(value):\n",
    "    return tf.train.Feature(\n",
    "        int64_list=tf.train.Int64List(value=[value]),\n",
    "    )"
   ]
  },
  {
   "cell_type": "code",
   "execution_count": 5,
   "metadata": {},
   "outputs": [],
   "source": [
    "def prepare_json(inputs: dict):\n",
    "    feature_spec = dict()\n",
    "\n",
    "    for keys, values in inputs.items():\n",
    "        if isinstance(values, str):\n",
    "            feature_spec[keys] = string_feature(values)\n",
    "        elif isinstance(values, float):\n",
    "            feature_spec[keys] = float_feature(values)\n",
    "        else:\n",
    "            feature_spec[keys] = int_feature(values)\n",
    "\n",
    "    example = tf.train.Example(\n",
    "        features=tf.train.Features(feature=feature_spec)\n",
    "    ).SerializeToString()\n",
    "\n",
    "    result = [{\"examples\": {\"b64\": base64.b64encode(example).decode()}}]\n",
    "\n",
    "    return json.dumps(\n",
    "        {\n",
    "            \"signature_name\": \"serving_default\",\n",
    "            \"instances\": result,\n",
    "        }\n",
    "    )"
   ]
  },
  {
   "cell_type": "code",
   "execution_count": 8,
   "metadata": {},
   "outputs": [],
   "source": [
    "def make_predictions(inputs):\n",
    "    json_data = prepare_json(inputs)\n",
    "\n",
    "    endpoint = \"https://mahendradwikm-pipeline-production.up.railway.app/v1/models/heart-disease-model:predict\"\n",
    "    response = requests.post(endpoint, data=json_data, headers={\"Content-Type\": \"application/json\"})\n",
    "    prediction = response.json()[\"predictions\"][0][0]\n",
    "\n",
    "    if prediction < 0.5:\n",
    "        return \"Tidak Mengalami Penyakit Jantung\"\n",
    "    else:\n",
    "        return \"Mengalami Penyakit Jantung\""
   ]
  },
  {
   "cell_type": "code",
   "execution_count": 9,
   "metadata": {},
   "outputs": [
    {
     "name": "stdout",
     "output_type": "stream",
     "text": [
      "Hasil Prediksi: Tidak Mengalami Penyakit Jantung\n",
      "Fitur Input: {'HeartDisease': 0, 'HeartDiseaseStatus': 'No', 'BMI': 26.63, 'Smoking': 'Yes', 'AlcoholDrinking': 'No', 'Stroke': 'No', 'PhysicalHealth': 30, 'MentalHealth': 0, 'DiffWalking': 'Yes', 'Sex': 'Male', 'AgeCategory': '60-64', 'Race': 'American Indian/Alaskan Native', 'Diabetic': 'No', 'PhysicalActivity': 'No', 'GenHealth': 'Poor', 'SleepTime': 8, 'Asthma': 'No', 'KidneyDisease': 'No', 'SkinCancer': 'No'}\n"
     ]
    }
   ],
   "source": [
    "hasil_prediksi = make_predictions(inputs)\n",
    "print(f'Hasil Prediksi: {hasil_prediksi}')\n",
    "print('Fitur Input:', inputs)"
   ]
  }
 ],
 "metadata": {
  "kernelspec": {
   "display_name": "env",
   "language": "python",
   "name": "python3"
  },
  "language_info": {
   "codemirror_mode": {
    "name": "ipython",
    "version": 3
   },
   "file_extension": ".py",
   "mimetype": "text/x-python",
   "name": "python",
   "nbconvert_exporter": "python",
   "pygments_lexer": "ipython3",
   "version": "3.9.2"
  }
 },
 "nbformat": 4,
 "nbformat_minor": 2
}
